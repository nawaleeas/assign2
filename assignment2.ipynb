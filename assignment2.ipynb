{
  "nbformat": 4,
  "nbformat_minor": 0,
  "metadata": {
    "colab": {
      "provenance": []
    },
    "kernelspec": {
      "name": "python3",
      "display_name": "Python 3"
    },
    "language_info": {
      "name": "python"
    }
  },
  "cells": [
    {
      "cell_type": "markdown",
      "source": [
        "#**Data Types and Structures Questions**\n",
        "\n",
        "\n",
        "#1. What are data structures, and why are they important?\n",
        "    > Data structures in Python are crucial concepts which defines data organising , data storing and data manipulation within a program.\n",
        "    > The choice of data structure plays a crucial role in determining the efficiency of various operations, such as searching, inserting, deleting, and updating data.\n",
        "    > It helps to structure and manage the flow of data.Python with its simplicity syntax makes learning and implementing data structures.\n",
        "    > They are a core component of Python and mastering them is crucial to writing efficient and maintainable code.\n",
        "\n",
        "#2.Explain the difference between mutable and immutable data types with examples?\n",
        "    1.Mutable Datatype\n",
        "    > A mutable data type is one whose value can be changed after it is created. In other words, the state of the object can be modified in place.\n",
        "    > In mutable datatype , for memory management moditifications affects the same object in memory and it is typically more efficient for frequent changes.\n",
        "    > For example : Lists , Dictionary .\n",
        "    2.Immutable Datatype\n",
        "    > An immutable data type is one whose value cannot be changed after the object is created. Any operation that tries to modify an immutable object results in the creation of a new object rather than modifying the original.\n",
        "    > In immutable datatype , for memory management modifications create new objects and it is less memory efficient when frequent changes are required.\n",
        "    > For example : Tuples , float , Integer.\n",
        "\n",
        "#3.What are the main differences between lists and tuples in Python?\n",
        "    1. Lists\n",
        "    > lists are mutable which means there elements can be changed , added or removed after we modification.\n",
        "    > For syntax lists are defined using square brackets \" [] \" .\n",
        "    > As lists are mutable and flexible it is slower and they are used when we need a collection of items that might change during the program execution.They have more built in methods for modification such as append() , remove() which use more memory.\n",
        "    2. Tuples\n",
        "    > Tuples are immutable, meaning once created, their elements cannot be changed no matter what.\n",
        "    > For syntax tuples are defined\n",
        "     using parentheses \" {} \".\n",
        "    > Tuples are generally faster than lists as they are immutable  and have smaller memory footprint and they are used when you need a collection of items that should remain constant.They have fewer methods as they are immutable like count() and index() which use less memory.\n",
        "\n",
        "\n",
        "#4.Describe how dictionaries store data.\n",
        "   > Dictionaries store data as key\n",
        "   value pairs where each key is unique and maps to a corresponding value and  the key must be immutable such as strings, numbers while the value can be of any data type including other dictionaries lists or tuples.\n",
        "   > Dictionaries use a hash table to manage these key value pairs efficiently. When a key-value pair is added, the key is hashed into an integer, determining its storage location in the dictionary which  allows for fast lookups, insertions, and deletions.\n",
        "   > They are flexible and widely used in Python for tasks like mapping, counting, and organizing data based on unique identifiers.\n",
        "\n",
        "#5. Why might you use a set instead of a list in Python?\n",
        "    > Sets automatically enforce uniqueness which means they do not allow duplicate values. If you want to store a collection of distinct elements, a set is ideal.\n",
        "    > Sets provide faster membership testing i.e checking if an element is in the set and they are designed to efficiently perform set operations.\n",
        "    > When large amounts of data are handled Sets are memory efficient which optimized for quick lookups.\n",
        "\n",
        "#6. What is a string in Python, and how is it different from a list?\n",
        "    > String in Python is a squence of characters which typically used to represent text and enclosed in single\n",
        "   quotation , double or triple quotes.\n",
        "   > Strings are immutable, meaning their content cannot be changed after creation whereas lists is an ordered collection of items and they aree mutable which means  we can modify , add , remove items after list is created.\n",
        "   > The key differences are strings are immutable which stores only characters and lists are mutable which stores any type of data.\n",
        "\n",
        "#7.How do tuples ensure data integrity in Python?\n",
        "    > Tuples ensure data integrity through their immutability.Once a tuple is created, its content cannot be changed which means there is no modificiations.\n",
        "    > Tuple's elemnts remain constant throughout the program and they can used as keys in dictonaries as they are hasable unlike lists which ensures they can be relied upon for stable lookups.\n",
        "\n",
        " #8. What is a hash table, and how does it relate to dictionaries in Python?  \n",
        "    > A hash table is a data structure that stores data in key-value pairs. It uses a hash function to convert the key into a unique value ie a number or string which helps quickly find the associated value as it makes searching , adding or removing data very fast usually in constant time.\n",
        "    > Dictionary works like a hash table. It stores data as key-value pairs, and it uses hashing to quickly find the value associated with a given key.\n",
        "\n",
        "#9.Can lists contain different data types in Python?\n",
        "    > Yes ,  lists in Python can contain different types of data. For example a single list can have integers, strings, floats, or even other lists.\n",
        "    > Python allows this flexibility, so you can store various kinds of information together in one list.\n",
        "    > So basically lists are really flexible which can hold different data types all at once.\n",
        "\n",
        "#10. Explain why strings are immutable in Python.\n",
        "    > Strings in Python are immutable because once a string is created, it cannot be changed or modified. This design choice helps ensure that strings remain consistent and reliable throughout a program.\n",
        "    > As strings can't be modified\n",
        "     Python can optimize memory usage and make string operations faster. It doesn’t need to create a new copy every time you work with a string.\n",
        "    > Immutability helps protect the data. Once a string is created.we  know it won’t accidentally change, making it safer to use in your programs.Overall making strings immutable makes programs more efficient, reliable, and secure.\n",
        "\n",
        "#11. What advantages do dictionaries offer over lists for certain tasks?\n",
        "     Dictionaries can be better than lists as follows:\n",
        "     > Faster Lookups:\n",
        "     In a dictionary, we can quickly find a value using its key. This is much faster than searching through a list where you might have to go through each item one by one.\n",
        "     > No Duplicates:\n",
        "     In a dictionary, keys must be unique, so you don't have to worry about having the same key more than once. This makes it easier to avoid mistakes when working with data.\n",
        "     > Efficient Updates:\n",
        "     As we can access a dictionary's value directly by its key, updating a value is faster compared to finding it in a list.\n",
        "\n",
        "#12.Describe a scenario where using a tuple would be preferable over a list.\n",
        "    > when we need to store a collection of data that should not change during the program. For example, if you're storing the coordinates of a point on a 2D plane, you might use a tuple as point(2,3) which represent a fixed position and we do not want them to change. Using tuple ensures that values can not be altered once they are set which adds data integrity and safety to program.\n",
        "    > Tuples are immtuable , they are more memory efficient and faster than lists.When we have data that should remain constant like above point , tuple is better option.\n",
        "\n",
        "#13.How do sets handle duplicate values in Python?\n",
        "     > In Python, sets automatically remove duplicates. When you try to add a value to a set that is already present, it won't be added again which means sets always contain only unique values.\n",
        "     > Sets remove duplicates which makes them efficient and consistent and it helps manage uniqueness in our data without you having to manually check for duplicates.\n",
        "\n",
        "#14.How does the “in” keyword work differently for lists and dictionaries.\n",
        "     1.For Lists :\n",
        "      > The \"in\" keyword checks if an item is present in the list. It goes through each element in the list one by one and returns True if it finds a match.\n",
        "      > It checks if an item exists in the list by value.\n",
        "      2.For Dictionaries :\n",
        "      > The in keyword checks if a key is present in the dictionary, not the value. It does not  check the values but only the dictionary's keys.\n",
        "      > It checks if a key exists in the dictionary but not by the value.\n",
        "\n",
        "#15. Can you modify the elements of a tuple? Explain why or why not.\n",
        "      > No, we cannot modify the elements of a tuple once it is created. This is because tuples are immutable in Python. Immutability means that once a tuple is created, its values cannot be changed, added, or removed.\n",
        "      > If we try to change an element then we will get an error as tuples do not allow modifications.\n",
        "\n",
        "#16. What is a nested dictionary, and give an example of its use case?\n",
        "      > A nested dictionary is a dictionary inside another dictionary.The value of a key in one dictionary can be another dictionary. This is useful when we  need to organize data that has multiple levels of information.\n",
        "      For ex.\n",
        "      students = {\n",
        "    'Ishani': {'Math': 90, 'Science': 85, 'English': 88},\n",
        "    \n",
        "                }\n",
        "\n",
        "      > Use case :\n",
        "       A nested dictionary like this is helpful when you need to store and access multiple pieces of related information in an organized way.\n",
        "       For ex.\n",
        "       print (students\n",
        "       ['Ishani']['Math'])  \n",
        "       \n",
        "       which gives Output: 90\n",
        "\n",
        "#17. Describe the time complexity of accessing elements in a dictionary.    \n",
        "       > The time complexity of accessing elements in a dictionary is O(1), which means it takes a constant amount of time to retrieve a value, no matter how large the dictionary is.\n",
        "       > As dictionaries in Python use a hash table to store data. When we provide a key, Python uses a hash function to quickly find the location where the value is stored which is very fast process , so accessing elements is done in constant time.\n",
        "\n",
        "\n",
        "#18. In what situations are lists preferred over dictionaries.\n",
        "       > Lists are ordered collections, so if the order of elements is important ie when we need to keep track of a sequence,  lists are the better choice.\n",
        "       > If we need to access elements based on their position  rather than a key, lists are ideal. In a list, you can use numeric indices to get values quickly.\n",
        "       > If the data we are working with is all of the same type and does not  need key-value pairs, lists are more straightforward and simple to use.\n",
        "       > Lists are better when order is important when we need to access data by index or when the data is just a collection of similar items. Dictionaries on the other hand are better when you need to pair keys with values for quick lookups.\n",
        "\n",
        "#19.Why are dictionaries considered unordered, and how does that affect data retrieval?\n",
        "       > Dictionaries in Python are considered unordered because the key-value pairs are not stored in a specific order. This means that when we look at the contents of a dictionary the order in which the items appear can change each time you run the program or add new items. The dictionary does not  guarantee that the key value pairs will always be in the same order.\n",
        "       > Even though dictionaries are unordered we  can still retrieve data quickly using the key. The unordered nature does not affect how fast we can access a value using its key because Python uses a hash table for quick lookups.\n",
        "       so, no matter dictionary is ordered or not we can still retrieve data efficiently by specifying the key.\n",
        "\n",
        "#20.Explain the difference between a list and a dictionary in terms of data retrieval.\n",
        "       1.List\n",
        "       > In a list, data is retrieved using an index. The index is a number that represents the position of an item in the list, starting from 0. To get a specific item, we use the index of that item.\n",
        "       > Lists are useful when the order of items matters or when you need to access data by its position.\n",
        "      \n",
        "       2.Dictionaries\n",
        "       > In a dictionary, data is retrieved using a key. Each key in a dictionary maps to a value, and we access the value by specifying its corresponding key.\n",
        "       > Dictionaries are useful when you want to store data in key-value pairs, and we need quick lookups based on unique keys.\n",
        "       > Lists are good for ordered data where you access by position, while dictionaries are better for storing and retrieving data using meaningful keys.\n",
        "       \n",
        "#Practical Questions\n",
        "\n",
        "#1.Write a code to create a string with your name and print it.\n",
        "\n",
        "\n",
        "\n",
        "\n",
        "\n",
        "\n",
        "\n",
        "\n",
        "       \n",
        "\n",
        "\n",
        "\n",
        "\n",
        "\n",
        "\n",
        "    \n",
        "\n"
      ],
      "metadata": {
        "id": "uAOcKL6HNmGv"
      }
    },
    {
      "cell_type": "code",
      "source": [
        "\n",
        "my_name = \" Moana \"\n",
        "print(my_name)\n"
      ],
      "metadata": {
        "colab": {
          "base_uri": "https://localhost:8080/"
        },
        "id": "MNcbFMkW0XUV",
        "outputId": "7f563d96-e5df-4ef6-c0f2-7af9bef22528"
      },
      "execution_count": 1,
      "outputs": [
        {
          "output_type": "stream",
          "name": "stdout",
          "text": [
            " Moana \n"
          ]
        }
      ]
    },
    {
      "cell_type": "markdown",
      "source": [
        "#2.Write a code to find the length of the string \"Hello World\"."
      ],
      "metadata": {
        "id": "cik_wpdu0zSG"
      }
    },
    {
      "cell_type": "code",
      "source": [
        "\n",
        "my_string = \"Hello World\"\n",
        "\n",
        "string_length = len(my_string)\n",
        "\n",
        "print(\"The length of the string is:\", string_length)\n"
      ],
      "metadata": {
        "colab": {
          "base_uri": "https://localhost:8080/"
        },
        "id": "2uXEa1fm1EGm",
        "outputId": "a4ea5694-abef-4b35-8a6d-256c1bb75eae"
      },
      "execution_count": 2,
      "outputs": [
        {
          "output_type": "stream",
          "name": "stdout",
          "text": [
            "The length of the string is: 11\n"
          ]
        }
      ]
    },
    {
      "cell_type": "markdown",
      "source": [
        "#3.Write a code to slice the first 3 characters from the string \"Python Programming\"."
      ],
      "metadata": {
        "id": "HJrzZWNF1bOf"
      }
    },
    {
      "cell_type": "code",
      "source": [
        "\n",
        "my_string = \"Python Programming\"\n",
        "sliced_string = my_string[:3]\n",
        "print(\"The first 3 characters are:\", sliced_string)\n"
      ],
      "metadata": {
        "colab": {
          "base_uri": "https://localhost:8080/"
        },
        "id": "PH-wZLSc1mU_",
        "outputId": "23613d9b-0172-4b30-e578-932803a8b6a5"
      },
      "execution_count": 3,
      "outputs": [
        {
          "output_type": "stream",
          "name": "stdout",
          "text": [
            "The first 3 characters are: Pyt\n"
          ]
        }
      ]
    },
    {
      "cell_type": "markdown",
      "source": [
        "#4.Write a code to convert the string \"hello\" to uppercase."
      ],
      "metadata": {
        "id": "VCBNUxHo10Up"
      }
    },
    {
      "cell_type": "code",
      "source": [
        "\n",
        "my_string = \"hello\"\n",
        "\n",
        "uppercase_string = my_string.upper()\n",
        "\n",
        "print(\"The string in uppercase is:\", uppercase_string)\n"
      ],
      "metadata": {
        "colab": {
          "base_uri": "https://localhost:8080/"
        },
        "id": "8SsqHnC92EQX",
        "outputId": "e3fbeac3-2de1-4066-c239-ec125fac0030"
      },
      "execution_count": 4,
      "outputs": [
        {
          "output_type": "stream",
          "name": "stdout",
          "text": [
            "The string in uppercase is: HELLO\n"
          ]
        }
      ]
    },
    {
      "cell_type": "markdown",
      "source": [
        "#5.Write a code to replace the word \"apple\" with \"orange\" in the string \"I like apple\"."
      ],
      "metadata": {
        "id": "rb4a593Z2LA0"
      }
    },
    {
      "cell_type": "code",
      "source": [
        "\n",
        "my_string = \"I like apple\"\n",
        "new_string = my_string.replace(\"apple\", \"orange\")\n",
        "\n",
        "print(\"The new string is:\", new_string)\n"
      ],
      "metadata": {
        "colab": {
          "base_uri": "https://localhost:8080/"
        },
        "id": "2LOQauIf2Q5H",
        "outputId": "b5cb26ed-488f-4aad-ed5b-4a2b57fb08b0"
      },
      "execution_count": 5,
      "outputs": [
        {
          "output_type": "stream",
          "name": "stdout",
          "text": [
            "The new string is: I like orange\n"
          ]
        }
      ]
    },
    {
      "cell_type": "markdown",
      "source": [
        "#6.Write a code to create a list with numbers 1 to 5 and print it.\n"
      ],
      "metadata": {
        "id": "7ghIo5RR2i0Q"
      }
    },
    {
      "cell_type": "code",
      "source": [
        "\n",
        "my_list = [1, 2, 3, 4, 5]\n",
        "print(my_list)\n"
      ],
      "metadata": {
        "colab": {
          "base_uri": "https://localhost:8080/"
        },
        "id": "cT76p2Pr2v0p",
        "outputId": "f40359d7-562f-467e-eeaa-129b2bd876e8"
      },
      "execution_count": 6,
      "outputs": [
        {
          "output_type": "stream",
          "name": "stdout",
          "text": [
            "[1, 2, 3, 4, 5]\n"
          ]
        }
      ]
    },
    {
      "cell_type": "markdown",
      "source": [
        "#7.Write a code to append the number 10 to the list [1, 2, 3, 4].\n"
      ],
      "metadata": {
        "id": "g6g903uo20X0"
      }
    },
    {
      "cell_type": "code",
      "source": [
        "\n",
        "my_list = [1, 2, 3, 4]\n",
        "my_list.append(10)\n",
        "\n",
        "print(my_list)\n"
      ],
      "metadata": {
        "colab": {
          "base_uri": "https://localhost:8080/"
        },
        "id": "hNDfLGlD267O",
        "outputId": "591897f3-3007-430f-d517-9d22046b034b"
      },
      "execution_count": 7,
      "outputs": [
        {
          "output_type": "stream",
          "name": "stdout",
          "text": [
            "[1, 2, 3, 4, 10]\n"
          ]
        }
      ]
    },
    {
      "cell_type": "markdown",
      "source": [
        "#8.Write a code to remove the number 3 from the list [1, 2, 3, 4, 5]."
      ],
      "metadata": {
        "id": "sCht5nEz3Ggf"
      }
    },
    {
      "cell_type": "code",
      "source": [
        "\n",
        "my_list = [1, 2, 3, 4, 5]\n",
        "\n",
        "my_list.remove(3)\n",
        "print(my_list)\n"
      ],
      "metadata": {
        "colab": {
          "base_uri": "https://localhost:8080/"
        },
        "id": "FnmpNDGe3RKj",
        "outputId": "e150e33f-1519-4e63-b5b7-a5d758d66c32"
      },
      "execution_count": 8,
      "outputs": [
        {
          "output_type": "stream",
          "name": "stdout",
          "text": [
            "[1, 2, 4, 5]\n"
          ]
        }
      ]
    },
    {
      "cell_type": "markdown",
      "source": [
        "#9.Write a code to access the second element in the list ['a', 'b', 'c', 'd']."
      ],
      "metadata": {
        "id": "Ld8rGdQo3dGo"
      }
    },
    {
      "cell_type": "code",
      "source": [
        "\n",
        "my_list = ['a', 'b', 'c', 'd']\n",
        "\n",
        "second_element = my_list[1]\n",
        "\n",
        "print(\"The second element is:\", second_element)\n"
      ],
      "metadata": {
        "colab": {
          "base_uri": "https://localhost:8080/"
        },
        "id": "3757aDWl3nNP",
        "outputId": "97458163-0500-472c-f62a-2a15f4bed0c5"
      },
      "execution_count": 9,
      "outputs": [
        {
          "output_type": "stream",
          "name": "stdout",
          "text": [
            "The second element is: b\n"
          ]
        }
      ]
    },
    {
      "cell_type": "markdown",
      "source": [
        "#10.Write a code to reverse the list [10, 20, 30, 40, 50]."
      ],
      "metadata": {
        "id": "jjUi0zcY3wzN"
      }
    },
    {
      "cell_type": "code",
      "source": [
        "\n",
        "my_list = [10, 20, 30, 40, 50]\n",
        "\n",
        "my_list.reverse()\n",
        "\n",
        "print(\"The reversed list is:\", my_list)\n"
      ],
      "metadata": {
        "colab": {
          "base_uri": "https://localhost:8080/"
        },
        "id": "ipbR4Zv6362q",
        "outputId": "4da0839b-1b44-4869-eb89-38752e44c21c"
      },
      "execution_count": 10,
      "outputs": [
        {
          "output_type": "stream",
          "name": "stdout",
          "text": [
            "The reversed list is: [50, 40, 30, 20, 10]\n"
          ]
        }
      ]
    },
    {
      "cell_type": "markdown",
      "source": [
        "#11. Write a code to create a tuple with the elements 10, 20, 30 and print it."
      ],
      "metadata": {
        "id": "jfwJkzw74FV7"
      }
    },
    {
      "cell_type": "code",
      "source": [
        "\n",
        "my_tuple = (10, 20, 30)\n",
        "\n",
        "print(my_tuple)\n"
      ],
      "metadata": {
        "colab": {
          "base_uri": "https://localhost:8080/"
        },
        "id": "vY0_Kt-q4K-T",
        "outputId": "63de1849-702a-4ae9-e0d6-80e1d5a60eb2"
      },
      "execution_count": 11,
      "outputs": [
        {
          "output_type": "stream",
          "name": "stdout",
          "text": [
            "(10, 20, 30)\n"
          ]
        }
      ]
    },
    {
      "cell_type": "markdown",
      "source": [
        "#12. Write a code to access the first element of the tuple ('apple', 'banana', 'cherry')."
      ],
      "metadata": {
        "id": "tQKafMEA4fhy"
      }
    },
    {
      "cell_type": "code",
      "source": [
        "\n",
        "my_tuple = ('apple', 'banana', 'cherry')\n",
        "first_element = my_tuple[0]\n",
        "\n",
        "print(\"The first element is:\", first_element)\n"
      ],
      "metadata": {
        "colab": {
          "base_uri": "https://localhost:8080/"
        },
        "id": "yKGrE83G4oNx",
        "outputId": "c499fe02-dabb-4f31-b947-d810306ed78f"
      },
      "execution_count": 12,
      "outputs": [
        {
          "output_type": "stream",
          "name": "stdout",
          "text": [
            "The first element is: apple\n"
          ]
        }
      ]
    },
    {
      "cell_type": "markdown",
      "source": [
        "#13. Write a code to count how many times the number 2 appears in the tuple (1, 2, 3, 2, 4, 2)."
      ],
      "metadata": {
        "id": "Z4u1ejZc47Vc"
      }
    },
    {
      "cell_type": "code",
      "source": [
        "\n",
        "my_tuple = (1, 2, 3, 2, 4, 2)\n",
        "count_of_2 = my_tuple.count(2)\n",
        "\n",
        "print(\"The number 2 appears\", count_of_2, \"times in the tuple.\")\n"
      ],
      "metadata": {
        "colab": {
          "base_uri": "https://localhost:8080/"
        },
        "id": "7NRXgam75FHb",
        "outputId": "a8576f6c-df2c-4c00-e44c-33b107ee53e0"
      },
      "execution_count": 13,
      "outputs": [
        {
          "output_type": "stream",
          "name": "stdout",
          "text": [
            "The number 2 appears 3 times in the tuple.\n"
          ]
        }
      ]
    },
    {
      "cell_type": "markdown",
      "source": [
        "#14. Write a code to find the index of the element \"cat\" in the tuple ('dog', 'cat', 'rabbit')."
      ],
      "metadata": {
        "id": "OCcejvOO5ThN"
      }
    },
    {
      "cell_type": "code",
      "source": [
        "\n",
        "my_tuple = ('dog', 'cat', 'rabbit')\n",
        "index_of_cat = my_tuple.index('cat')\n",
        "\n",
        "print(\"The index of 'cat' is:\", index_of_cat)\n"
      ],
      "metadata": {
        "colab": {
          "base_uri": "https://localhost:8080/"
        },
        "id": "M7pzgzDL5Zga",
        "outputId": "23c4c7b0-3701-41c3-fd26-46657f392321"
      },
      "execution_count": 14,
      "outputs": [
        {
          "output_type": "stream",
          "name": "stdout",
          "text": [
            "The index of 'cat' is: 1\n"
          ]
        }
      ]
    },
    {
      "cell_type": "markdown",
      "source": [
        "#15. Write a code to check if the element \"banana\" is in the tuple ('apple', 'orange', 'banana')."
      ],
      "metadata": {
        "id": "O4atrKFF5q3a"
      }
    },
    {
      "cell_type": "code",
      "source": [
        "\n",
        "my_tuple = ('apple', 'orange', 'banana')\n",
        "if 'banana' in my_tuple:\n",
        "    print(\"Yes, 'banana' is in the tuple.\")\n",
        "else:\n",
        "    print(\"No, 'banana' is not in the tuple.\")\n",
        "\n"
      ],
      "metadata": {
        "colab": {
          "base_uri": "https://localhost:8080/"
        },
        "id": "NX307S1V6IeU",
        "outputId": "7f0d2757-e463-4cff-f6de-3dfe2af1ffd9"
      },
      "execution_count": 16,
      "outputs": [
        {
          "output_type": "stream",
          "name": "stdout",
          "text": [
            "Yes, 'banana' is in the tuple.\n"
          ]
        }
      ]
    },
    {
      "cell_type": "markdown",
      "source": [
        "#16.Write a code to create a set with the elements 1, 2, 3, 4, 5 and print it."
      ],
      "metadata": {
        "id": "nz6ozrXP6Q9S"
      }
    },
    {
      "cell_type": "code",
      "source": [
        "\n",
        "my_set = {1, 2, 3, 4, 5}\n",
        "\n",
        "print(my_set)\n"
      ],
      "metadata": {
        "colab": {
          "base_uri": "https://localhost:8080/"
        },
        "id": "l0cJlZnQ6VKO",
        "outputId": "855505fa-d79c-4d7d-dc8f-8baeb113c076"
      },
      "execution_count": 17,
      "outputs": [
        {
          "output_type": "stream",
          "name": "stdout",
          "text": [
            "{1, 2, 3, 4, 5}\n"
          ]
        }
      ]
    },
    {
      "cell_type": "markdown",
      "source": [
        "#17.Write a code to add the element 6 to the set {1, 2, 3, 4}."
      ],
      "metadata": {
        "id": "-1DJPBDJ6u6Q"
      }
    },
    {
      "cell_type": "code",
      "source": [
        "\n",
        "my_set = {1, 2, 3, 4}\n",
        "\n",
        "my_set.add(6)\n",
        "\n",
        "print(my_set)\n"
      ],
      "metadata": {
        "colab": {
          "base_uri": "https://localhost:8080/"
        },
        "id": "PTBULXS37ENr",
        "outputId": "b0bf11c3-78eb-48b6-9971-ef84c34420c4"
      },
      "execution_count": 18,
      "outputs": [
        {
          "output_type": "stream",
          "name": "stdout",
          "text": [
            "{1, 2, 3, 4, 6}\n"
          ]
        }
      ]
    },
    {
      "cell_type": "markdown",
      "source": [
        "#18.Write a code to create a tuple with the elements 10, 20, 30 and print it.\n"
      ],
      "metadata": {
        "id": "CnsAsgtn7NtB"
      }
    },
    {
      "cell_type": "code",
      "source": [
        "\n",
        "my_tuple = (10, 20, 30)\n",
        "\n",
        "print(my_tuple)\n"
      ],
      "metadata": {
        "colab": {
          "base_uri": "https://localhost:8080/"
        },
        "id": "r4LpFuTJ7b7k",
        "outputId": "927cc8a7-149b-49df-aca8-155490e97509"
      },
      "execution_count": 19,
      "outputs": [
        {
          "output_type": "stream",
          "name": "stdout",
          "text": [
            "(10, 20, 30)\n"
          ]
        }
      ]
    },
    {
      "cell_type": "markdown",
      "source": [
        "#19.Write a code to access the first element of the tuple ('apple', 'banana', 'cherry')."
      ],
      "metadata": {
        "id": "hWciuUw07i37"
      }
    },
    {
      "cell_type": "code",
      "source": [],
      "metadata": {
        "id": "V8NvfgUd9Ja7"
      },
      "execution_count": null,
      "outputs": []
    },
    {
      "cell_type": "code",
      "source": [
        "\n",
        "my_tuple = ('apple', 'banana', 'cherry')\n",
        "first_element = my_tuple[0]\n",
        "\n",
        "print(\"The first element is:\", first_element)\n"
      ],
      "metadata": {
        "colab": {
          "base_uri": "https://localhost:8080/"
        },
        "outputId": "c499fe02-dabb-4f31-b947-d810306ed78f",
        "id": "dKB1e8d89J11"
      },
      "execution_count": null,
      "outputs": [
        {
          "output_type": "stream",
          "name": "stdout",
          "text": [
            "The first element is: apple\n"
          ]
        }
      ]
    },
    {
      "cell_type": "markdown",
      "source": [
        "#20.Write a code to count how many times the number 2 appears in the tuple (1, 2, 3, 2, 4, 2)."
      ],
      "metadata": {
        "id": "TuwQqvhg9Lig"
      }
    },
    {
      "cell_type": "code",
      "source": [
        "my_tuple = (1, 2, 3, 2, 4, 2)\n",
        "count_of_2 = my_tuple.count(2)\n",
        "\n",
        "print(\"The number 2 appears\", count_of_2, \"times in the tuple.\")\n"
      ],
      "metadata": {
        "colab": {
          "base_uri": "https://localhost:8080/"
        },
        "id": "kPw8nKgI9vqm",
        "outputId": "172de269-6947-4571-c78c-656cd7cb0105"
      },
      "execution_count": 20,
      "outputs": [
        {
          "output_type": "stream",
          "name": "stdout",
          "text": [
            "The number 2 appears 3 times in the tuple.\n"
          ]
        }
      ]
    },
    {
      "cell_type": "markdown",
      "source": [
        "#21. Write a code to find the index of the element \"cat\" in the tuple ('dog', 'cat', 'rabbit')."
      ],
      "metadata": {
        "id": "FDy2QWCf9yZa"
      }
    },
    {
      "cell_type": "code",
      "source": [
        "my_tuple = ('dog', 'cat', 'rabbit')\n",
        "index_of_cat = my_tuple.index('cat')\n",
        "\n",
        "print(\"The index of 'cat' is:\", index_of_cat)"
      ],
      "metadata": {
        "colab": {
          "base_uri": "https://localhost:8080/"
        },
        "id": "fXy-bsHP96Y3",
        "outputId": "1de8814e-9cea-4fcd-9269-f7d90c600f37"
      },
      "execution_count": 21,
      "outputs": [
        {
          "output_type": "stream",
          "name": "stdout",
          "text": [
            "The index of 'cat' is: 1\n"
          ]
        }
      ]
    },
    {
      "cell_type": "markdown",
      "source": [
        "#22. Write a code to check if the element \"banana\" is in the tuple ('apple', 'orange', 'banana')."
      ],
      "metadata": {
        "id": "E6chor4y-Cpa"
      }
    },
    {
      "cell_type": "code",
      "source": [
        "my_tuple = ('apple', 'orange', 'banana')\n",
        "if 'banana' in my_tuple:\n",
        "    print(\"Yes, 'banana' is in the tuple.\")\n",
        "else:\n",
        "    print(\"No, 'banana' is not in the tuple.\")\n",
        "\n"
      ],
      "metadata": {
        "colab": {
          "base_uri": "https://localhost:8080/"
        },
        "id": "62DuAtvM-I1e",
        "outputId": "4acf8633-95cd-47dd-d418-716e809e3350"
      },
      "execution_count": 22,
      "outputs": [
        {
          "output_type": "stream",
          "name": "stdout",
          "text": [
            "Yes, 'banana' is in the tuple.\n"
          ]
        }
      ]
    },
    {
      "cell_type": "markdown",
      "source": [
        "#23. Write a code to create a set with the elements 1, 2, 3, 4, 5 and print it."
      ],
      "metadata": {
        "id": "qVL0SjnZ-WPx"
      }
    },
    {
      "cell_type": "code",
      "source": [
        "my_set = {1, 2, 3, 4, 5}\n",
        "\n",
        "print(my_set)"
      ],
      "metadata": {
        "colab": {
          "base_uri": "https://localhost:8080/"
        },
        "id": "ZMjp1Ck8-avY",
        "outputId": "199a4ce2-47d9-414f-e262-6db0371415f3"
      },
      "execution_count": 23,
      "outputs": [
        {
          "output_type": "stream",
          "name": "stdout",
          "text": [
            "{1, 2, 3, 4, 5}\n"
          ]
        }
      ]
    },
    {
      "cell_type": "markdown",
      "source": [
        "#24. Write a code to add the element 6 to the set {1, 2, 3, 4}.\n"
      ],
      "metadata": {
        "id": "bYaVNID3-jEH"
      }
    },
    {
      "cell_type": "code",
      "source": [
        "my_set = {1, 2, 3, 4}\n",
        "\n",
        "my_set.add(6)\n",
        "\n",
        "print(my_set)"
      ],
      "metadata": {
        "colab": {
          "base_uri": "https://localhost:8080/"
        },
        "id": "ZoX1PZey-vos",
        "outputId": "62ef91cb-80b2-4741-a776-86a2eebdc87d"
      },
      "execution_count": 24,
      "outputs": [
        {
          "output_type": "stream",
          "name": "stdout",
          "text": [
            "{1, 2, 3, 4, 6}\n"
          ]
        }
      ]
    }
  ]
}